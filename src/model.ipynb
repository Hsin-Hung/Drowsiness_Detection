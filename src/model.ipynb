{
 "cells": [
  {
   "cell_type": "code",
   "execution_count": 24,
   "metadata": {},
   "outputs": [],
   "source": [
    "import cv2\n",
    "import numpy as np"
   ]
  },
  {
   "cell_type": "code",
   "execution_count": 25,
   "metadata": {},
   "outputs": [],
   "source": [
    "def face_ROI(frame):\n",
    "    frame_gray = cv2.cvtColor(frame, cv2.COLOR_BGR2GRAY)\n",
    "    face_classifier = cv2.CascadeClassifier('./haarcascade_frontalface_default.xml')\n",
    "    eyes_classifier = cv2.CascadeClassifier('./haarcascade_eye.xml')\n",
    "    mouth_classifier = cv2.CascadeClassifier('./haarcascade_mcs_mouth.xml')\n",
    "    faces = face_classifier.detectMultiScale(frame_gray, 1.3, 3, minSize=(30, 30))\n",
    "    for (x,y,w,h) in faces:\n",
    "        cv2.rectangle(frame,(x,y),(x+w,y+h),(255,0,0),2)\n",
    "        face_gray = frame_gray[y:y+h, x:x+w]\n",
    "        face = frame[y:y+h, x:x+w]\n",
    "        eyes = eyes_classifier.detectMultiScale(face_gray)\n",
    "        for (x2,y2,w2,h2) in eyes:\n",
    "            cv2.rectangle(face,(x2,y2),(x2+w2,y2+h2),(0,0,255),2)\n",
    "            \n",
    "        mouths = mouth_classifier.detectMultiScale(face_gray)    \n",
    "        for (x3,y3,w3,h3) in mouths:\n",
    "            cv2.rectangle(face,(x3,y3),(x3+w3,y3+h3),(0,255,0),2)\n",
    "        \n",
    "    cv2.imshow('TEAM12', frame)"
   ]
  },
  {
   "cell_type": "code",
   "execution_count": 26,
   "metadata": {},
   "outputs": [],
   "source": [
    "vid = cv2.VideoCapture(0)\n",
    "\n",
    "while(True):\n",
    "      \n",
    "    # Capture the video frame\n",
    "    # by frame\n",
    "    ret, frame = vid.read()\n",
    "    frame = cv2.flip(frame, 1)\n",
    "    frame = cv2.resize(frame,(256,144))\n",
    "    face_ROI(frame)\n",
    "    # Display the resulting frame\n",
    "#     cv2.imshow('TEAM12', frame)\n",
    "      \n",
    "    # the 'q' button is set as the\n",
    "    # quitting button you may use any\n",
    "    # desired button of your choice\n",
    "    if cv2.waitKey(1) & 0xFF == ord('q'):\n",
    "        break\n",
    "    \n",
    "    # After the loop release the cap object\n",
    "vid.release()\n",
    "# Destroy all the windows\n",
    "cv2.destroyAllWindows()"
   ]
  },
  {
   "cell_type": "code",
   "execution_count": null,
   "metadata": {},
   "outputs": [],
   "source": []
  }
 ],
 "metadata": {
  "kernelspec": {
   "display_name": "Python 3",
   "language": "python",
   "name": "python3"
  },
  "language_info": {
   "codemirror_mode": {
    "name": "ipython",
    "version": 3
   },
   "file_extension": ".py",
   "mimetype": "text/x-python",
   "name": "python",
   "nbconvert_exporter": "python",
   "pygments_lexer": "ipython3",
   "version": "3.7.9"
  },
  "vscode": {
   "interpreter": {
    "hash": "397704579725e15f5c7cb49fe5f0341eb7531c82d19f2c29d197e8b64ab5776b"
   }
  }
 },
 "nbformat": 4,
 "nbformat_minor": 4
}
