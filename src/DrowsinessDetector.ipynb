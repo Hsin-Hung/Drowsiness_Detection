{
 "cells": [
  {
   "cell_type": "code",
   "execution_count": 132,
   "metadata": {},
   "outputs": [],
   "source": [
    "import cv2\n",
    "import numpy as np\n",
    "import tensorflow as tf\n",
    "import dlib\n",
    "from tensorflow.keras.models import Model\n",
    "from tensorflow.keras.models import load_model"
   ]
  },
  {
   "cell_type": "code",
   "execution_count": 152,
   "metadata": {},
   "outputs": [
    {
     "name": "stdout",
     "output_type": "stream",
     "text": [
      "Model: \"sequential_35\"\n",
      "_________________________________________________________________\n",
      "Layer (type)                 Output Shape              Param #   \n",
      "=================================================================\n",
      "conv2d_1 (Conv2D)            (None, 48, 48, 16)        448       \n",
      "_________________________________________________________________\n",
      "max_pooling2d_105 (MaxPoolin (None, 24, 24, 16)        0         \n",
      "_________________________________________________________________\n",
      "batch_normalization_93 (Batc (None, 24, 24, 16)        64        \n",
      "_________________________________________________________________\n",
      "conv2d_2 (Conv2D)            (None, 22, 22, 32)        4640      \n",
      "_________________________________________________________________\n",
      "max_pooling2d_106 (MaxPoolin (None, 11, 11, 32)        0         \n",
      "_________________________________________________________________\n",
      "batch_normalization_94 (Batc (None, 11, 11, 32)        128       \n",
      "_________________________________________________________________\n",
      "conv2d_3 (Conv2D)            (None, 9, 9, 64)          18496     \n",
      "_________________________________________________________________\n",
      "max_pooling2d_107 (MaxPoolin (None, 4, 4, 64)          0         \n",
      "_________________________________________________________________\n",
      "batch_normalization_95 (Batc (None, 4, 4, 64)          256       \n",
      "_________________________________________________________________\n",
      "flatten_35 (Flatten)         (None, 1024)              0         \n",
      "_________________________________________________________________\n",
      "dense (Dense)                (None, 64)                65600     \n",
      "_________________________________________________________________\n",
      "dense_35 (Dense)             (None, 1)                 65        \n",
      "=================================================================\n",
      "Total params: 89,697\n",
      "Trainable params: 89,473\n",
      "Non-trainable params: 224\n",
      "_________________________________________________________________\n"
     ]
    }
   ],
   "source": [
    "face_classifier = cv2.CascadeClassifier('./haarcascade_frontalface_default.xml')\n",
    "eyes_classifier = cv2.CascadeClassifier('./haarcascade_eye.xml')\n",
    "\n",
    "detector = dlib.get_frontal_face_detector()\n",
    "predictor = dlib.shape_predictor('./shape_predictor_68_face_landmarks.dat')\n",
    "\n",
    "model=load_model('../model/henry_model.h5')\n",
    "model.summary()\n",
    "\n",
    "def to_grayscale_then_rgb(image):\n",
    "    image = tf.image.rgb_to_grayscale(image)\n",
    "    image = tf.image.grayscale_to_rgb(image)\n",
    "    return image\n",
    "\n",
    "close_frame = 0\n",
    "prev_eyes = []\n",
    "def face_ROI(frame):\n",
    "    global close_frame, prev_eyes\n",
    "    frame_gray = cv2.cvtColor(frame, cv2.COLOR_BGR2GRAY)\n",
    "    faces = face_classifier.detectMultiScale(frame_gray, 1.3, 3, minSize=(30, 30))\n",
    "    for (x,y,w,h) in faces:\n",
    "        cv2.rectangle(frame,(x,y),(x+w,y+h),(255,0,0),2)\n",
    "        face_gray = frame_gray[y:y+h, x:x+w]\n",
    "        face = frame[y:y+h, x:x+w]\n",
    "#       cv2.imwrite(\"face.jpg\", face)\n",
    "        eyes = eyes_classifier.detectMultiScale(face_gray)\n",
    "#         print(\"face height\", str(h))\n",
    "        new_eyes = []\n",
    "        for (x2,y2,w2,h2) in eyes:\n",
    "            \n",
    "            if y2+h2/2 > h/2: # pass if the eye is at the bottom\n",
    "                continue\n",
    "            eye = face_gray[y2:y2+h2, x2:x2+w2]\n",
    "            eye = cv2.cvtColor(eye, cv2.COLOR_GRAY2BGR)\n",
    "            eye = cv2.resize(eye, (50, 50))\n",
    "            eye = np.array(eye)\n",
    "            eye = np.expand_dims(eye, axis=0)\n",
    "            prev_eyes.append((x2,y2,w2,h2))\n",
    "            new_eyes.append(eye)\n",
    "            \n",
    "            cv2.rectangle(face,(x2,y2),(x2+w2,y2+h2),(0,0,255),2)\n",
    "        if not new_eyes:\n",
    "            \n",
    "            for (ox,oy,ow,oh) in prev_eyes:\n",
    "                cv2.rectangle(face,(ox,oy),(ox+ow,oy+oh),(0,0,255),2)\n",
    "            \n",
    "            \n",
    "            close_frame += 1\n",
    "        else:\n",
    "            prev_eyes.clear()\n",
    "            for cur_eye in new_eyes:\n",
    "                prediction = model.predict(cur_eye)\n",
    "#                 print(prediction)\n",
    "                if(prediction[0][0] == 1):\n",
    "                    close_frame += 1\n",
    "                    break\n",
    "                else:\n",
    "                    close_frame = 0\n",
    "        for cur_eye in prev_eyes:\n",
    "            prediction = model.predict(cur_eye)\n",
    "#                print(prediction)\n",
    "            if(prediction[0][0] == 1):\n",
    "                close_frame += 1\n",
    "                break\n",
    "            else:\n",
    "                close_frame = 0            \n",
    "            \n",
    "        if close_frame >= 15:\n",
    "            cv2.putText(frame, \n",
    "                        \"DROWSY!!!\", \n",
    "                        (50, 50), \n",
    "                        cv2.FONT_HERSHEY_SIMPLEX, 1, \n",
    "                        (0, 255, 255), \n",
    "                        2, \n",
    "                        cv2.LINE_4)    \n",
    "\n",
    "    cv2.imshow('TEAM12', frame)"
   ]
  },
  {
   "cell_type": "code",
   "execution_count": 153,
   "metadata": {},
   "outputs": [
    {
     "name": "stdout",
     "output_type": "stream",
     "text": [
      "5.0\n"
     ]
    }
   ],
   "source": [
    "vid = cv2.VideoCapture(0)\n",
    "print(vid.get(cv2.CAP_PROP_FPS))\n",
    "while(True):\n",
    "      \n",
    "    # Capture the video frame\n",
    "    # by frame\n",
    "    ret, frame = vid.read()\n",
    "    frame = cv2.flip(frame, 1)\n",
    "    frame = cv2.resize(frame,(500,250))\n",
    "    face_ROI(frame)\n",
    "    # Display the resulting frame\n",
    "#     cv2.imshow('TEAM12', frame)\n",
    "      \n",
    "    # the 'q' button is set as the\n",
    "    # quitting button you may use any\n",
    "    # desired button of your choice\n",
    "    if cv2.waitKey(1) & 0xFF == ord('q'):\n",
    "        break\n",
    "    \n",
    "    # After the loop release the cap object\n",
    "vid.release()\n",
    "# Destroy all the windows\n",
    "cv2.destroyAllWindows()"
   ]
  },
  {
   "cell_type": "code",
   "execution_count": 31,
   "metadata": {},
   "outputs": [
    {
     "name": "stdout",
     "output_type": "stream",
     "text": [
      "[[0.]]\n"
     ]
    }
   ],
   "source": [
    "img = cv2.imread(\"eye.jpg\")\n",
    "img = cv2.resize(img, (50, 50))\n",
    "img = np.array(img)\n",
    "img = np.expand_dims(img, axis=0)\n",
    "# destroy all windows\n",
    "prediction = model.predict(img)\n",
    "print(prediction)"
   ]
  },
  {
   "cell_type": "code",
   "execution_count": null,
   "metadata": {},
   "outputs": [],
   "source": []
  }
 ],
 "metadata": {
  "kernelspec": {
   "display_name": "Python 3 (ipykernel)",
   "language": "python",
   "name": "python3"
  },
  "language_info": {
   "codemirror_mode": {
    "name": "ipython",
    "version": 3
   },
   "file_extension": ".py",
   "mimetype": "text/x-python",
   "name": "python",
   "nbconvert_exporter": "python",
   "pygments_lexer": "ipython3",
   "version": "3.7.13"
  },
  "vscode": {
   "interpreter": {
    "hash": "397704579725e15f5c7cb49fe5f0341eb7531c82d19f2c29d197e8b64ab5776b"
   }
  }
 },
 "nbformat": 4,
 "nbformat_minor": 4
}
